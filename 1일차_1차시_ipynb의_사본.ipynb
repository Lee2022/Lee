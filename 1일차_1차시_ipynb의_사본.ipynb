{
  "nbformat": 4,
  "nbformat_minor": 0,
  "metadata": {
    "colab": {
      "name": "1일차_1차시.ipynb의 사본",
      "provenance": [],
      "authorship_tag": "ABX9TyPP4rCGO3mdbPnAOypUmYmO",
      "include_colab_link": true
    },
    "kernelspec": {
      "name": "python3",
      "display_name": "Python 3"
    }
  },
  "cells": [
    {
      "cell_type": "markdown",
      "metadata": {
        "id": "view-in-github",
        "colab_type": "text"
      },
      "source": [
        "<a href=\"https://colab.research.google.com/github/LeeM21/Lee/blob/master/1%EC%9D%BC%EC%B0%A8_1%EC%B0%A8%EC%8B%9C_ipynb%EC%9D%98_%EC%82%AC%EB%B3%B8.ipynb\" target=\"_parent\"><img src=\"https://colab.research.google.com/assets/colab-badge.svg\" alt=\"Open In Colab\"/></a>"
      ]
    },
    {
      "cell_type": "code",
      "metadata": {
        "id": "FdwWeUHA2aLA",
        "colab_type": "code",
        "outputId": "e7f53107-4b36-4e9d-dd7e-4044aae18ffd",
        "colab": {
          "base_uri": "https://localhost:8080/",
          "height": 35
        }
      },
      "source": [
        "print('인천정보산업고')"
      ],
      "execution_count": 0,
      "outputs": [
        {
          "output_type": "stream",
          "text": [
            "인천정보산업고\n"
          ],
          "name": "stdout"
        }
      ]
    },
    {
      "cell_type": "code",
      "metadata": {
        "id": "Ebw2e8Dk35MC",
        "colab_type": "code",
        "outputId": "3b700815-f2dc-4a4c-e066-28b102f3a69b",
        "colab": {
          "base_uri": "https://localhost:8080/",
          "height": 35
        }
      },
      "source": [
        "a=1\n",
        "b=2\n",
        "a\n",
        "b\n",
        "print(a,b)"
      ],
      "execution_count": 0,
      "outputs": [
        {
          "output_type": "stream",
          "text": [
            "1 2\n"
          ],
          "name": "stdout"
        }
      ]
    },
    {
      "cell_type": "code",
      "metadata": {
        "id": "mB7utrFr4UNk",
        "colab_type": "code",
        "outputId": "e4a35126-b101-4f05-bf63-c5a1dfe26d7e",
        "colab": {
          "base_uri": "https://localhost:8080/",
          "height": 143
        }
      },
      "source": [
        "a=3\n",
        "b=2\n",
        "print('a+b=',a+b)\n",
        "print('a-b=',a-b)\n",
        "print('a*b=',a*b)\n",
        "print('a**b=',a**b)\n",
        "print('a/b=',a/b)\n",
        "print('a//b=',a//b)\n",
        "print('a%b=',a%b)"
      ],
      "execution_count": 0,
      "outputs": [
        {
          "output_type": "stream",
          "text": [
            "a+b= 5\n",
            "a-b= 1\n",
            "a*b= 6\n",
            "a**b= 9\n",
            "a/b= 1.5\n",
            "a//b= 1\n",
            "a%b= 1\n"
          ],
          "name": "stdout"
        }
      ]
    },
    {
      "cell_type": "code",
      "metadata": {
        "id": "G4ZRw8qC5apf",
        "colab_type": "code",
        "colab": {}
      },
      "source": [
        ""
      ],
      "execution_count": 0,
      "outputs": []
    },
    {
      "cell_type": "markdown",
      "metadata": {
        "id": "lXkdGW4w3KKX",
        "colab_type": "text"
      },
      "source": [
        "오늘은**1일차 1교시 출력문**작성내용입니다.\n",
        "--\n",
        "오늘의 학습목표\n",
        "1. 개발환경 설치\n",
        "2. 출력문 작성\n",
        "\n",
        "**정리**\n",
        "1. 파이썬은 ;이 필요없다.\n",
        "2. print()라는 함수를 이용해서 출력을 한다.\n",
        "3. 문자열은  \" \"가 아닌 ' '로 표현한다."
      ]
    }
  ]
}